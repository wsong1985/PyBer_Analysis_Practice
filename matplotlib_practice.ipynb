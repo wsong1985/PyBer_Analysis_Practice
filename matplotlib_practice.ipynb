{
 "cells": [
  {
   "cell_type": "markdown",
   "id": "e7d7ea78",
   "metadata": {},
   "source": [
    "# Line Chart"
   ]
  },
  {
   "cell_type": "code",
   "execution_count": null,
   "id": "1418b6e7",
   "metadata": {},
   "outputs": [],
   "source": [
    "%matplotlib inline"
   ]
  },
  {
   "cell_type": "code",
   "execution_count": null,
   "id": "975bdb8a",
   "metadata": {},
   "outputs": [],
   "source": [
    "# Import dependencies.\n",
    "import matplotlib.pyplot as plt"
   ]
  },
  {
   "cell_type": "code",
   "execution_count": null,
   "id": "504060d5",
   "metadata": {},
   "outputs": [],
   "source": [
    "# Set the x-axis to a list of strings for each month.\n",
    "x_axis = [\"Jan\", \"Feb\", \"Mar\", \"April\", \n",
    "          \"May\", \"June\", \"July\", \"Aug\", \n",
    "          \"Sept\", \"Oct\", \"Nov\", \"Dec\"]\n",
    "\n",
    "# Set the y-axis to a list of floats as the total fare in US dollars accumulated for each month.\n",
    "y_axis = [10.02, 23.24, 39.20, 35.42, \n",
    "          32.34, 27.04, 43.82, 10.56, \n",
    "          11.85, 27.90, 20.71, 20.09]"
   ]
  },
  {
   "cell_type": "code",
   "execution_count": null,
   "id": "1ded2f41",
   "metadata": {},
   "outputs": [],
   "source": [
    "# Create the plot\n",
    "plt.plot(x_axis, y_axis)"
   ]
  },
  {
   "cell_type": "code",
   "execution_count": null,
   "id": "030843b4",
   "metadata": {},
   "outputs": [],
   "source": [
    "# Create the plot with ax.plot() - Switching from using MATLAB to the object-oriented interface method\n",
    "fig, ax = plt.subplots()\n",
    "ax.plot(x_axis, y_axis)"
   ]
  },
  {
   "cell_type": "code",
   "execution_count": null,
   "id": "8b79a9df",
   "metadata": {},
   "outputs": [],
   "source": [
    "# Create the plot with ax.plt(), replacing fig,ax = plt.subplots() with fig = plt.figure() and ax = fig.add_subplot() \n",
    "fig = plt.figure()\n",
    "ax = fig.add_subplot()\n",
    "ax.plot(x_axis, y_axis)"
   ]
  },
  {
   "cell_type": "code",
   "execution_count": null,
   "id": "27a415b2",
   "metadata": {},
   "outputs": [],
   "source": [
    "# Create a quick graph using the object-oriented interface method\n",
    "ax = plt.axes()\n",
    "ax.plot(x_axis, y_axis)"
   ]
  },
  {
   "cell_type": "code",
   "execution_count": null,
   "id": "51b2675a",
   "metadata": {},
   "outputs": [],
   "source": [
    "# Create the plot.\n",
    "plt.plot(x_axis, y_axis)\n",
    "plt.show()"
   ]
  },
  {
   "cell_type": "code",
   "execution_count": null,
   "id": "dbe3e8e6",
   "metadata": {},
   "outputs": [],
   "source": [
    "# plt.figure(figsize=(w, h)) -Change the size of the figure in pixels. Added on the first line of the script.\n",
    "# plt.plot(x, y, label='line') -Add a label that will be added to the legend.\n",
    "# plt.xlim(min, max) -Set the min and max range of the x-axis.\n",
    "# plt.ylim(min, max) -Set the min and max range of the y-axis.\n",
    "# plt.xlabel('x label') -Add a label to the x-axis.\n",
    "# plt.ylabel('y label') -Add a label to the y-axis.\n",
    "# plt.title(\"Title\") -Add a title.\n",
    "# plt.legend() -Add a legend.\n",
    "# plt.grid() -Add a grid to the chart.\n",
    "# plt.savefig(\"add a path and figure extension\") -Save the figure with the given extension. Added at the end of the script."
   ]
  },
  {
   "cell_type": "code",
   "execution_count": null,
   "id": "7c4f1993",
   "metadata": {},
   "outputs": [],
   "source": [
    "# Create the plot and add a label for the legend.\n",
    "plt.plot(x_axis, y_axis, label='Boston')\n",
    "\n",
    "# Create labels for the x and y axes.\n",
    "plt.xlabel(\"Date\")\n",
    "plt.ylabel(\"Fare($)\")\n",
    "\n",
    "# Set the y limit between 0 and 45.\n",
    "plt.ylim(0, 45)\n",
    "\n",
    "# Create a title.\n",
    "plt.title(\"PyBer Fare by Month\")\n",
    "\n",
    "# Add the legend.\n",
    "plt.legend()"
   ]
  },
  {
   "cell_type": "code",
   "execution_count": null,
   "id": "839cbf60",
   "metadata": {},
   "outputs": [],
   "source": [
    "# Create the plot.\n",
    "plt.plot(x_axis, y_axis, marker=\"*\", color=\"blue\", linewidth=2, label='Boston')\n",
    "\n",
    "# Create labels for the x and y axes.\n",
    "plt.xlabel(\"Date\")\n",
    "plt.ylabel(\"Fare($)\")\n",
    "\n",
    "# Set the y limit between 0 and 45.\n",
    "plt.ylim(0, 45)\n",
    "\n",
    "# Create a title.\n",
    "plt.title(\"PyBer Fare by Month\")\n",
    "\n",
    "# Add a grid.\n",
    "plt.grid()\n",
    "\n",
    "# Add the legend.\n",
    "plt.legend()"
   ]
  },
  {
   "cell_type": "code",
   "execution_count": null,
   "id": "708cc538",
   "metadata": {},
   "outputs": [],
   "source": [
    "# Annotate charts using the oject-oriented interface\n",
    "# fig, ax = plt.subplots(figsize=(w, h)) -Change the size of the figure in pixels. Add this in the subplots() function.\n",
    "# ax.plot(x, y, label='line') -Add a label that will be added to the legend.\n",
    "# ax.set_ylim(min, max) -Sets the min and max range of the y-axis.\n",
    "# ax.set_xlim(min, max) -Sets the min and max range of the x-axis.\n",
    "# ax.set_xlabel('x label') -Add a label to the x-axis.\n",
    "# ax.set_ylabel('y label') -Add a label to the y-axis.\n",
    "# ax.set_title(\"Title\") -Add a title.\n",
    "# ax.legend() -Add a legend.\n",
    "# ax.grid() -Add a grid to the chart.\n",
    "# ** plt.savefig(\"add a path and figure extension\") -Saves the figure with the given extension. Added at the end of your script."
   ]
  },
  {
   "cell_type": "code",
   "execution_count": null,
   "id": "2d88c0be",
   "metadata": {},
   "outputs": [],
   "source": [
    "fig, ax = plt.subplots()\n",
    "ax.plot(x_axis,y_axis,color = \"green\",marker= \"D\",linewidth =2,label='Boston')\n",
    "ax.set_xlabel('Date')\n",
    "ax.set_ylabel('Fare($)')\n",
    "ax.set_ylim(0,45)\n",
    "ax.grid()\n",
    "ax.legend()"
   ]
  },
  {
   "cell_type": "markdown",
   "id": "7ed0b043",
   "metadata": {},
   "source": [
    "# Bar Chart"
   ]
  },
  {
   "cell_type": "code",
   "execution_count": null,
   "id": "0ef37c3c",
   "metadata": {},
   "outputs": [],
   "source": [
    "%matplotlib inline\n",
    "import matplotlib.pyplot as plt\n",
    "\n",
    "# Set the x-axis to a list of strings for each month.\n",
    "x_axis = [\"Jan\", \"Feb\", \"Mar\", \"April\", \"May\", \"June\", \"July\", \"Aug\", \"Sept\", \"Oct\", \"Nov\", \"Dec\"]\n",
    "\n",
    "# Set the y-axis to a list of floats as the total fare in US dollars accumulated for each month.\n",
    "y_axis = [10.02, 23.24, 39.20, 35.42, 32.34, 27.04, 43.82, 10.56, 11.85, 27.90, 20.71, 20.09]"
   ]
  },
  {
   "cell_type": "code",
   "execution_count": null,
   "id": "c0948fde",
   "metadata": {},
   "outputs": [],
   "source": [
    "# Create the plot\n",
    "plt.bar(x_axis, y_axis)"
   ]
  },
  {
   "cell_type": "code",
   "execution_count": null,
   "id": "2558480f",
   "metadata": {},
   "outputs": [],
   "source": [
    "# Create the plot.\n",
    "plt.bar(x_axis, y_axis, color=\"green\", label='Boston')\n",
    "# Create labels for the x and y axes.\n",
    "plt.xlabel(\"Date\")\n",
    "plt.ylabel(\"Fare($)\")\n",
    "# Create a title.\n",
    "plt.title(\"PyBer Fare by Month\")\n",
    "# Add the legend.\n",
    "plt.legend()"
   ]
  },
  {
   "cell_type": "code",
   "execution_count": null,
   "id": "25e94d10",
   "metadata": {},
   "outputs": [],
   "source": [
    "# Create a horizontal bar chart\n",
    "plt.barh(x_axis, y_axis)"
   ]
  },
  {
   "cell_type": "code",
   "execution_count": null,
   "id": "9c984a73",
   "metadata": {},
   "outputs": [],
   "source": [
    "# invert the y-axis to have the months in ascending order\n",
    "plt.barh(x_axis, y_axis)\n",
    "plt.gca().invert_yaxis()"
   ]
  },
  {
   "cell_type": "code",
   "execution_count": null,
   "id": "8547dda2",
   "metadata": {},
   "outputs": [],
   "source": [
    "# Using MATLAB plotting approach to make the following changes\n",
    "# Change the bar colors to magenta.\n",
    "# Add a legend for the city of Boston.\n",
    "# Add a title and axes labels.\n",
    "# Invert the y-axis so that January is at the top.\n",
    "plt.barh(x_axis, y_axis, label='Boston',color='magenta')\n",
    "plt.legend()\n",
    "plt.xlabel('Fare($)')\n",
    "plt.ylabel('Date')\n",
    "plt.title(\"PyBer Fare by Month\")\n",
    "plt.gca().invert_yaxis()"
   ]
  },
  {
   "cell_type": "code",
   "execution_count": null,
   "id": "500c9041",
   "metadata": {},
   "outputs": [],
   "source": [
    "# Create a vertical bar chart with ax.plt()\n",
    "fig,ax = plt.subplots()\n",
    "ax.bar(x_axis,y_axis)\n",
    "ax.bar(x_axis,y_axis,color ='k', label='New York')\n",
    "ax.legend()"
   ]
  },
  {
   "cell_type": "code",
   "execution_count": null,
   "id": "2a09b7e4",
   "metadata": {},
   "outputs": [],
   "source": [
    "# Create a horizontal bar chart with ax.plt()\n",
    "fig, ax = plt.subplots()\n",
    "ax.barh(x_axis, y_axis)"
   ]
  },
  {
   "cell_type": "code",
   "execution_count": null,
   "id": "4a1a32af",
   "metadata": {},
   "outputs": [],
   "source": [
    "# Create the plot with ax.plt(), with data on opposite axes\n",
    "fig, ax = plt.subplots()\n",
    "ax.barh(y_axis, x_axis)"
   ]
  },
  {
   "cell_type": "code",
   "execution_count": null,
   "id": "ff82b5f5",
   "metadata": {},
   "outputs": [],
   "source": [
    "# Using the object-oriented approach, make the following changes:\n",
    "# Change the bar color to cyan.\n",
    "# Add a legend for the city of Chicago.\n",
    "# Add a title and axes labels.\n",
    "# Switch the axis so that the Fare($) data is on the x-axis.\n",
    "# Invert the y-axis data.\n",
    "\n",
    "fig,ax = plt.subplots()\n",
    "ax.barh(x_axis,y_axis,color = 'cyan',label='Chicago')\n",
    "ax.legend()\n",
    "ax.set_title(\"PyBer Fare by Month\")\n",
    "ax.set_xlabel('Fare($)')\n",
    "ax.set_ylabel('Date')\n",
    "plt.gca().invert_yaxis()"
   ]
  },
  {
   "cell_type": "markdown",
   "id": "66aa19ba",
   "metadata": {},
   "source": [
    "# Scatter Plot"
   ]
  },
  {
   "cell_type": "code",
   "execution_count": null,
   "id": "721265a8",
   "metadata": {},
   "outputs": [],
   "source": [
    "# Set the x-axis to a list of strings for each month.\n",
    "x_axis = [\"Jan\", \"Feb\", \"Mar\", \"April\", \"May\", \"June\", \"July\", \"Aug\", \"Sept\", \"Oct\", \"Nov\", \"Dec\"]\n",
    "\n",
    "# Set the y-axis to a list of floats as the total fare in US dollars accumulated for each month.\n",
    "y_axis = [10.02, 23.24, 39.20, 35.42, 32.34, 27.04, 43.82, 10.56, 11.85, 27.90, 20.71, 20.09]"
   ]
  },
  {
   "cell_type": "code",
   "execution_count": null,
   "id": "ae0df01f",
   "metadata": {},
   "outputs": [],
   "source": [
    "# Create a scatter plot with plt.plot() by adding a lowercase \"o\" as a parameter\n",
    "plt.plot(x_axis, y_axis, 'o')\n",
    "\n",
    "# Create a scatter plot with plt.scatter()\n",
    "plt.scatter(x_axis, y_axis)"
   ]
  },
  {
   "cell_type": "code",
   "execution_count": null,
   "id": "661c46c1",
   "metadata": {},
   "outputs": [],
   "source": [
    "# Using the Matplotlib MATLAB plotting approach, make the following changes to your scatter plot:\n",
    "# Change the color of the markers to red.\n",
    "# Add a legend for the city of Chicago.\n",
    "# Add a title and axes labels.\n",
    "# Switch the axis so that the Fare($) data is on the x-axis.\n",
    "# Add a limit for the x-axis data.\n",
    "# Invert the y-axis so that January is at the top.\n",
    "plt.scatter(y_axis, x_axis, c='red',label = 'Chicago')\n",
    "plt.xlabel('Fare($)')\n",
    "plt.ylabel('Date')\n",
    "plt.title('PyBer Fare by Month')\n",
    "plt.xlim(0,50)\n",
    "plt.gca().invert_yaxis()"
   ]
  },
  {
   "cell_type": "code",
   "execution_count": null,
   "id": "61795593",
   "metadata": {},
   "outputs": [],
   "source": [
    "# Create a bubble chart, make the size of each marker equal to the data floating-point decimal values of the y-axis \n",
    "plt.scatter(x_axis, y_axis)\n",
    "plt.scatter(x_axis, y_axis, s=y_axis)"
   ]
  },
  {
   "cell_type": "code",
   "execution_count": null,
   "id": "1f3f3fb0",
   "metadata": {},
   "outputs": [],
   "source": [
    "# Adjust the size by multiplying the data in the y-axis by any value\n",
    "y_axis_larger = []\n",
    "for data in y_axis:\n",
    "  y_axis_larger.append(data*3)\n",
    "\n",
    "plt.scatter(x_axis, y_axis, s=y_axis_larger)"
   ]
  },
  {
   "cell_type": "code",
   "execution_count": null,
   "id": "d257d4d9",
   "metadata": {},
   "outputs": [],
   "source": [
    "# Use list comprehension to replace for loop\n",
    "plt.scatter(x_axis, y_axis, s = [i * 3 for i in y_axis])"
   ]
  },
  {
   "cell_type": "code",
   "execution_count": null,
   "id": "60c1d601",
   "metadata": {},
   "outputs": [],
   "source": [
    "# Create a scatter plot using the object-oriented interface\n",
    "fig, ax = plt.subplots()\n",
    "ax.scatter(x_axis, y_axis, s=y_axis)"
   ]
  },
  {
   "cell_type": "code",
   "execution_count": null,
   "id": "38d88324",
   "metadata": {},
   "outputs": [],
   "source": [
    "# Using the object-oriented approach, make the following changes to your bubble chart:\n",
    "# Change the color of the markers to sky blue.\n",
    "# Change the size of the markers to 5 times each data point.\n",
    "# Make the color 20% transparent.\n",
    "# Add a black edge color to the circles.\n",
    "# Make the linewidth of the circles 2 points.\n",
    "# Add a legend for the city of Boston.\n",
    "# Add a title.\n",
    "# Switch the axis so that the Fare($) data is on the x-axis.\n",
    "# Add a limit for the x-axis data.\n",
    "# Invert the y-axis so that January is at the top.\n",
    "\n",
    "fig, ax = plt.subplots()\n",
    "ax.scatter(y_axis, x_axis, c= 'skyblue', s=[5*i for i in y_axis], alpha=0.8, edgecolor = 'black', linewidth = 2, label ='Boston')\n",
    "ax.legend()\n",
    "ax.set_title('PyBer Fare by Month')\n",
    "ax.set_xlabel('Fare($)')\n",
    "ax.set_ylabel('Date')\n",
    "ax.set_xlim(0,50)\n",
    "plt.gca().invert_yaxis()"
   ]
  },
  {
   "cell_type": "markdown",
   "id": "1a684b48",
   "metadata": {},
   "source": [
    "# Pie Chart"
   ]
  },
  {
   "cell_type": "code",
   "execution_count": null,
   "id": "26e65047",
   "metadata": {},
   "outputs": [],
   "source": [
    "plt.pie(y_axis, labels=x_axis)\n",
    "plt.show()"
   ]
  },
  {
   "cell_type": "code",
   "execution_count": null,
   "id": "47b46466",
   "metadata": {},
   "outputs": [],
   "source": [
    "# with \"explode\" parameter\n",
    "explode_values = (0, 0, 0, 0, 0, 0, 0.2, 0, 0, 0, 0, 0)\n",
    "plt.subplots(figsize=(8, 8))\n",
    "plt.pie(y_axis, explode=explode_values, labels=x_axis, autopct='%.1f%%')"
   ]
  },
  {
   "cell_type": "code",
   "execution_count": null,
   "id": "017ddfe5",
   "metadata": {},
   "outputs": [],
   "source": [
    "# Assign 12 colors, one for each month.\n",
    "colors = [\"slateblue\", \"magenta\", \"lightblue\", \"green\", \"yellowgreen\", \"greenyellow\", \"yellow\", \"orange\", \"gold\", \"indianred\", \"tomato\", \"mistyrose\"]\n",
    "explode_values = (0, 0, 0, 0, 0, 0, 0.2, 0, 0, 0, 0, 0)\n",
    "plt.subplots(figsize=(8, 8))\n",
    "plt.pie(y_axis,\n",
    "    explode=explode_values,\n",
    "    colors=colors,\n",
    "    labels=x_axis,\n",
    "    autopct='%.1f%%')\n",
    "\n",
    "plt.show()"
   ]
  },
  {
   "cell_type": "code",
   "execution_count": null,
   "id": "2d6ccc97",
   "metadata": {
    "scrolled": true
   },
   "outputs": [],
   "source": [
    "# Create a pie chart using the object-oriented interface\n",
    "fig, ax = plt.subplots()\n",
    "ax.pie(y_axis,labels=x_axis)\n",
    "plt.show()"
   ]
  },
  {
   "cell_type": "markdown",
   "id": "b25d752d",
   "metadata": {},
   "source": [
    "# Error Bar"
   ]
  },
  {
   "cell_type": "code",
   "execution_count": null,
   "id": "88311257",
   "metadata": {},
   "outputs": [],
   "source": [
    "# Add Error Bars to a line chart\n",
    "%matplotlib inline\n",
    "import matplotlib.pyplot as plt\n",
    "import statistics\n",
    "\n",
    "# Set the x-axis to a list of strings for each month.\n",
    "x_axis = [\"Jan\", \"Feb\", \"Mar\", \"April\", \"May\", \"June\", \"July\", \"Aug\", \"Sept\", \"Oct\", \"Nov\", \"Dec\"]\n",
    "\n",
    "# Set the y-axis to a list of floats as the total fare in US dollars accumulated for each month.\n",
    "y_axis = [10.02, 23.24, 39.20, 35.42, 32.34, 27.04, 43.82, 10.56, 11.85, 27.90, 20.71, 20.09]"
   ]
  },
  {
   "cell_type": "code",
   "execution_count": null,
   "id": "e356b8be",
   "metadata": {},
   "outputs": [],
   "source": [
    "stdev = statistics.stdev(y_axis)\n",
    "stdev"
   ]
  },
  {
   "cell_type": "code",
   "execution_count": null,
   "id": "5512d9c6",
   "metadata": {},
   "outputs": [],
   "source": [
    "plt.errorbar(x_axis, y_axis, yerr=stdev, capsize=3)"
   ]
  },
  {
   "cell_type": "code",
   "execution_count": null,
   "id": "28cfe663",
   "metadata": {},
   "outputs": [],
   "source": [
    "# Using object-oriented approach\n",
    "fig, ax = plt.subplots()\n",
    "ax.errorbar(x_axis, y_axis, yerr=stdev, capsize=3)\n",
    "plt.show()"
   ]
  },
  {
   "cell_type": "code",
   "execution_count": null,
   "id": "b3facc72",
   "metadata": {},
   "outputs": [],
   "source": [
    "# Add Error Bars to a bar chart\n",
    "plt.bar(x_axis, y_axis, yerr=stdev, capsize=3)"
   ]
  },
  {
   "cell_type": "code",
   "execution_count": null,
   "id": "cd764ccb",
   "metadata": {},
   "outputs": [],
   "source": [
    "# Using object-oriented approach\n",
    "fig, ax = plt.subplots()\n",
    "ax.bar(x_axis, y_axis, yerr=stdev, capsize=3)\n",
    "plt.show()"
   ]
  },
  {
   "cell_type": "code",
   "execution_count": null,
   "id": "92a58426",
   "metadata": {},
   "outputs": [],
   "source": [
    "# Horizontal bar chart with change of major ticks\n",
    "import numpy as np\n",
    "plt.barh(x_axis, y_axis)\n",
    "plt.xticks(np.arange(0, 51, step=5.0))\n",
    "plt.gca().invert_yaxis()"
   ]
  },
  {
   "cell_type": "code",
   "execution_count": null,
   "id": "78a0dd35",
   "metadata": {},
   "outputs": [],
   "source": [
    "# Using object-oriented approach\n",
    "fig, ax = plt.subplots()\n",
    "ax.barh(x_axis, y_axis)\n",
    "ax.set_xticks(np.arange(0, 51, step=5.0))\n",
    "plt.show()"
   ]
  },
  {
   "cell_type": "code",
   "execution_count": null,
   "id": "dc5e1354",
   "metadata": {},
   "outputs": [],
   "source": [
    "# Add Minor Ticks\n",
    "from matplotlib.ticker import MultipleLocator\n",
    "\n",
    "# Increase the size of the plot figure.\n",
    "fig, ax = plt.subplots(figsize=(8, 8))\n",
    "ax.barh(x_axis, y_axis)\n",
    "ax.set_xticks(np.arange(0, 51, step=5.0))\n",
    "\n",
    "# Create minor ticks at an increment of 1.\n",
    "ax.xaxis.set_minor_locator(MultipleLocator(1))\n",
    "plt.show()"
   ]
  },
  {
   "cell_type": "code",
   "execution_count": null,
   "id": "f1469404",
   "metadata": {},
   "outputs": [],
   "source": []
  }
 ],
 "metadata": {
  "kernelspec": {
   "display_name": "PythonData",
   "language": "python",
   "name": "pythondata"
  },
  "language_info": {
   "codemirror_mode": {
    "name": "ipython",
    "version": 3
   },
   "file_extension": ".py",
   "mimetype": "text/x-python",
   "name": "python",
   "nbconvert_exporter": "python",
   "pygments_lexer": "ipython3",
   "version": "3.9.12"
  }
 },
 "nbformat": 4,
 "nbformat_minor": 5
}
